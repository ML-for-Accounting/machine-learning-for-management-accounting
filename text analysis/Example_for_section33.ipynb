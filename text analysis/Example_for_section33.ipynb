{
 "cells": [
  {
   "cell_type": "markdown",
   "id": "veterinary-humidity",
   "metadata": {},
   "source": [
    "### Word2vec example"
   ]
  },
  {
   "cell_type": "markdown",
   "id": "adverse-ratio",
   "metadata": {},
   "source": [
    "This code includes the example of Section 3.3 in the article \"Machine learning in management accounting research: Literature review and pathways for the future\". The article is forthcoming in European Accounting Review, but the working paper version can be downloaded from https://papers.ssrn.com/sol3/papers.cfm?abstract_id=3822650"
   ]
  },
  {
   "cell_type": "markdown",
   "id": "adequate-generator",
   "metadata": {},
   "source": [
    "Note! This code does not use the language model of the paper used to infer similar phrases for \"restructuring\" and \"growth_strategy\" due to the model being several gigabytes in size. For demonstration purposes, this code includes a simpler model that is trained using text8 dataset in Gensim. It contains textual data from Wikipedia. However, this code includes guidelines how to construct a similar language model using 10-K filings that was used in the paper. "
   ]
  },
  {
   "cell_type": "markdown",
   "id": "surgical-restaurant",
   "metadata": {},
   "source": [
    "Different tasks are separated to different parts below. You can pick up one part of the example to do it separately (for example, NER identification). Of course in practical applications they can be done in one pipeline."
   ]
  },
  {
   "cell_type": "markdown",
   "id": "color-survey",
   "metadata": {},
   "source": [
    "<div class=\"alert-warning\">\n",
    "Yellow is used for parts of the code which are irrelevant and perform, for example, pre-processing operations.\n",
    "</div>"
   ]
  },
  {
   "cell_type": "markdown",
   "id": "aboriginal-fields",
   "metadata": {
    "tags": []
   },
   "source": [
    "<div class=\"alert-info\">\n",
    "Blue is used for the relevant parts of the code.\n",
    "</div>"
   ]
  },
  {
   "cell_type": "code",
   "execution_count": 1,
   "id": "western-cause",
   "metadata": {},
   "outputs": [],
   "source": [
    "import gensim\n",
    "import os\n",
    "import spacy\n",
    "import numpy as np\n",
    "import pandas as pd"
   ]
  },
  {
   "cell_type": "markdown",
   "id": "saving-physiology",
   "metadata": {},
   "source": [
    "-----"
   ]
  },
  {
   "cell_type": "markdown",
   "id": "built-machinery",
   "metadata": {},
   "source": [
    "### Part 1: Replacing named entities with tags"
   ]
  },
  {
   "cell_type": "markdown",
   "id": "forty-wildlife",
   "metadata": {},
   "source": [
    "The following algorithm replaces named entities with tags NER_(type_of_entity). It collects files from \"source_dir\", process the files, and saves them to \"dest_dir\". This part can be run independently."
   ]
  },
  {
   "cell_type": "code",
   "execution_count": 2,
   "id": "humanitarian-general",
   "metadata": {},
   "outputs": [],
   "source": [
    "source_dir = 'your_source_dir_here'"
   ]
  },
  {
   "cell_type": "code",
   "execution_count": 3,
   "id": "aerial-street",
   "metadata": {},
   "outputs": [],
   "source": [
    "dest_dir = 'your_dest_dir_here'"
   ]
  },
  {
   "cell_type": "markdown",
   "id": "naughty-montgomery",
   "metadata": {},
   "source": [
    "<div class=\"alert-info\">\n",
    "Load the Spacy model\n",
    "</div>"
   ]
  },
  {
   "cell_type": "markdown",
   "id": "afraid-thong",
   "metadata": {},
   "source": [
    "<div class=\"alert-info\">\n",
    "We add \"merge entities\" module to the pipeline to connect entities that consist of several words.\n",
    "</div>"
   ]
  },
  {
   "cell_type": "code",
   "execution_count": 3,
   "id": "clinical-guard",
   "metadata": {},
   "outputs": [],
   "source": [
    "nlp = spacy.load('en_core_web_lg')"
   ]
  },
  {
   "cell_type": "code",
   "execution_count": 4,
   "id": "opposed-interpretation",
   "metadata": {},
   "outputs": [
    {
     "data": {
      "text/plain": [
       "<function spacy.pipeline.functions.merge_entities(doc: spacy.tokens.doc.Doc)>"
      ]
     },
     "execution_count": 4,
     "metadata": {},
     "output_type": "execute_result"
    }
   ],
   "source": [
    "nlp.add_pipe('merge_entities')"
   ]
  },
  {
   "cell_type": "markdown",
   "id": "sufficient-cisco",
   "metadata": {},
   "source": [
    "<div class=\"alert-info\">\n",
    "The algorithm below can be used to transform files in \"source_dir\" to such that named entities have been replaced with \"ner_(entity_type)\" tags. np.setdiff1d is used to collect the remaining files that have not yet been processed. \n",
    "</div>"
   ]
  },
  {
   "cell_type": "code",
   "execution_count": null,
   "id": "statistical-duplicate",
   "metadata": {},
   "outputs": [],
   "source": [
    "files1 = os.listdir(source_dir)"
   ]
  },
  {
   "cell_type": "code",
   "execution_count": 7,
   "id": "first-business",
   "metadata": {},
   "outputs": [],
   "source": [
    "files2 = os.listdir(dest_dir)"
   ]
  },
  {
   "cell_type": "code",
   "execution_count": 9,
   "id": "atlantic-patio",
   "metadata": {},
   "outputs": [],
   "source": [
    "remaining_files = np.setdiff1d(files1,files2)"
   ]
  },
  {
   "cell_type": "markdown",
   "id": "standing-zealand",
   "metadata": {},
   "source": [
    "<div class=\"alert-info\">\n",
    "Algorithm for replacing named entities with a tag ner_(type of named entity)\n",
    "</div>"
   ]
  },
  {
   "cell_type": "code",
   "execution_count": 11,
   "id": "pleasant-version",
   "metadata": {},
   "outputs": [],
   "source": [
    "for fname in remaining_files:\n",
    "    raw = open(os.path.join(source_dir, fname)).read()\n",
    "    raw = raw[500:1000000].lower()\n",
    "    raw = \" \".join(gensim.utils.simple_preprocess(raw))\n",
    "    doc=nlp(raw,disable=[\"tok2vec\", \"tagger\", \"parser\", \"attribute_ruler\", \"lemmatizer\"])\n",
    "    open(os.path.join(dest_dir + fname),mode='w').write(' '.join([t.text if not t.ent_type_ else 'ner_' + t.ent_type_ for t in doc]))"
   ]
  },
  {
   "cell_type": "markdown",
   "id": "enormous-broadcast",
   "metadata": {},
   "source": [
    "#### Example"
   ]
  },
  {
   "cell_type": "markdown",
   "id": "junior-amount",
   "metadata": {},
   "source": [
    "Below is an example output what the algorithm above produces."
   ]
  },
  {
   "cell_type": "code",
   "execution_count": 14,
   "id": "opposed-danish",
   "metadata": {},
   "outputs": [],
   "source": [
    "example_file = './example22_data/20180814_707549.txt'"
   ]
  },
  {
   "cell_type": "code",
   "execution_count": 15,
   "id": "undefined-recruitment",
   "metadata": {},
   "outputs": [],
   "source": [
    "raw = open(example_file).read()\n",
    "raw = raw[500:1000000].lower()\n",
    "raw = \" \".join(gensim.utils.simple_preprocess(raw))\n",
    "doc=nlp(raw,disable=[\"tok2vec\", \"tagger\", \"parser\", \"attribute_ruler\", \"lemmatizer\"])"
   ]
  },
  {
   "cell_type": "code",
   "execution_count": 33,
   "id": "elegant-update",
   "metadata": {},
   "outputs": [
    {
     "data": {
      "text/plain": [
       "' we make with the ner_ORG are available on our website free of charge as soon as reasonably practical after we file them with or furnish them to the ner_ORG and are also available online at the ner_ORG website at www sec gov any materials we file with the ner_ORG may also be read and copied at the ner_ORG public reference room at street ne ner_GPE to obtain information on the operation of the publ'"
      ]
     },
     "execution_count": 33,
     "metadata": {},
     "output_type": "execute_result"
    }
   ],
   "source": [
    "' '.join([t.text if not t.ent_type_ else 'ner_' + t.ent_type_ for t in doc])[9600:10000]"
   ]
  },
  {
   "cell_type": "markdown",
   "id": "unsigned-intermediate",
   "metadata": {},
   "source": [
    "---"
   ]
  },
  {
   "cell_type": "markdown",
   "id": "related-container",
   "metadata": {},
   "source": [
    "### Part 2: Create noun chunks "
   ]
  },
  {
   "cell_type": "markdown",
   "id": "chemical-chapel",
   "metadata": {},
   "source": [
    "The following algorithm works similarly as the NER algorithm, by collecting words from one folder and saving them to another after the processing. But instead of NERs, it now identifies noun chunks. This part can be run independently."
   ]
  },
  {
   "cell_type": "code",
   "execution_count": 3,
   "id": "configured-filling",
   "metadata": {},
   "outputs": [],
   "source": [
    "source_dir = 'your_source_dir_here'"
   ]
  },
  {
   "cell_type": "code",
   "execution_count": 4,
   "id": "covered-barrel",
   "metadata": {},
   "outputs": [],
   "source": [
    "dest_dir = 'your_dest_dir_here'"
   ]
  },
  {
   "cell_type": "code",
   "execution_count": 35,
   "id": "stunning-testament",
   "metadata": {},
   "outputs": [],
   "source": [
    "nlp = spacy.load('en_core_web_lg')"
   ]
  },
  {
   "cell_type": "markdown",
   "id": "partial-japan",
   "metadata": {},
   "source": [
    "<div class=\"alert-info\">\n",
    "Add module to the pipeline that creates noun chunks.\n",
    "</div>"
   ]
  },
  {
   "cell_type": "code",
   "execution_count": 36,
   "id": "interpreted-round",
   "metadata": {},
   "outputs": [
    {
     "data": {
      "text/plain": [
       "<function spacy.pipeline.functions.merge_noun_chunks(doc: spacy.tokens.doc.Doc) -> spacy.tokens.doc.Doc>"
      ]
     },
     "execution_count": 36,
     "metadata": {},
     "output_type": "execute_result"
    }
   ],
   "source": [
    "nlp.add_pipe('merge_noun_chunks')"
   ]
  },
  {
   "cell_type": "markdown",
   "id": "rotary-correction",
   "metadata": {},
   "source": [
    "<div class=\"alert-info\">\n",
    "The algorithm below can be used to transform files in \"source_dir\" to such that words related to nouns are connected with \"_\". np.setdiff1d is used to collect the remaining files that have not yet been processed. \n",
    "</div>"
   ]
  },
  {
   "cell_type": "code",
   "execution_count": 7,
   "id": "persistent-hamilton",
   "metadata": {},
   "outputs": [],
   "source": [
    "files1 = os.listdir(source_dir)"
   ]
  },
  {
   "cell_type": "code",
   "execution_count": 8,
   "id": "cellular-printing",
   "metadata": {},
   "outputs": [],
   "source": [
    "files2 = os.listdir(dest_dir)"
   ]
  },
  {
   "cell_type": "code",
   "execution_count": 9,
   "id": "working-certificate",
   "metadata": {},
   "outputs": [],
   "source": [
    "import numpy as np"
   ]
  },
  {
   "cell_type": "code",
   "execution_count": 10,
   "id": "prime-stadium",
   "metadata": {},
   "outputs": [],
   "source": [
    "remaining_files = np.setdiff1d(files1,files2)"
   ]
  },
  {
   "cell_type": "markdown",
   "id": "capable-booking",
   "metadata": {},
   "source": [
    "<div class=\"alert-info\">\n",
    "Combine the words of noun chunks with '_'\n",
    "</div>"
   ]
  },
  {
   "cell_type": "code",
   "execution_count": 13,
   "id": "accomplished-agreement",
   "metadata": {},
   "outputs": [],
   "source": [
    "for fname in remaining_files:\n",
    "    raw = open(os.path.join(source_dir, fname)).read()\n",
    "    doc=nlp(raw,disable=[\"lemmatizer\",\"ner\"])\n",
    "    open(os.path.join(dest_dir + fname),mode='w').write(' '.join([t.text.replace(' ','_') for t in doc]))"
   ]
  },
  {
   "cell_type": "markdown",
   "id": "electronic-christian",
   "metadata": {},
   "source": [
    "#### Example"
   ]
  },
  {
   "cell_type": "markdown",
   "id": "corresponding-calvin",
   "metadata": {},
   "source": [
    "Below is an example output what the algorithm above produces."
   ]
  },
  {
   "cell_type": "code",
   "execution_count": 37,
   "id": "particular-thermal",
   "metadata": {},
   "outputs": [],
   "source": [
    "example_file = './example22_data/20180814_707549.txt'"
   ]
  },
  {
   "cell_type": "code",
   "execution_count": 41,
   "id": "understanding-mauritius",
   "metadata": {},
   "outputs": [],
   "source": [
    "raw = open(example_file).read()\n",
    "raw = \" \".join(gensim.utils.simple_preprocess(raw))\n",
    "doc=nlp(raw,disable=[\"lemmatizer\",\"ner\"])"
   ]
  },
  {
   "cell_type": "code",
   "execution_count": 48,
   "id": "animal-catering",
   "metadata": {},
   "outputs": [
    {
     "data": {
      "text/plain": [
       "'ject to the_safe_harbor_provisions created by the_private_securities_litigation_reform_act of certain but not all of the_forward_looking_statements in this_report are specifically identified as forwar'"
      ]
     },
     "execution_count": 48,
     "metadata": {},
     "output_type": "execute_result"
    }
   ],
   "source": [
    "' '.join([t.text.replace(' ','_') for t in doc])[5000:5200]"
   ]
  },
  {
   "cell_type": "markdown",
   "id": "elect-earthquake",
   "metadata": {},
   "source": [
    "---"
   ]
  },
  {
   "cell_type": "markdown",
   "id": "underlying-degree",
   "metadata": {},
   "source": [
    "### Part 3: Identify similar phrases using a word embedding model"
   ]
  },
  {
   "cell_type": "markdown",
   "id": "surface-chapel",
   "metadata": {},
   "source": [
    "<div class=\"alert-info\">\n",
    "Use a word2vec model, trained with 10-Ks, to infer most similar words to specified keywords.\n",
    "</div>"
   ]
  },
  {
   "cell_type": "markdown",
   "id": "athletic-hunger",
   "metadata": {},
   "source": [
    "<div class=\"alert-info\">\n",
    "Main routine to create the word2vec model. NOTE! For this code to work, you need a collection of texts. In the article 180 000 10-K filings were used to train the word2vec model. This algorithm creates the model iteratively without loading the whole textual data to the memory. To make the algorithm work, you need to place your collection of texts to \"source_dir\".\n",
    "</div>"
   ]
  },
  {
   "cell_type": "code",
   "execution_count": 54,
   "id": "mathematical-stake",
   "metadata": {},
   "outputs": [],
   "source": [
    "class MySentences(object):\n",
    "    def __init__(self, dirname):\n",
    "        self.dirname = dirname\n",
    " \n",
    "    def __iter__(self):\n",
    "        for fname in os.listdir(self.dirname):\n",
    "            raw = open(os.path.join(self.dirname, fname)).read()\n",
    "            raw = raw.lower()\n",
    "            yield gensim.utils.simple_preprocess(raw)"
   ]
  },
  {
   "cell_type": "code",
   "execution_count": 9,
   "id": "broadband-communist",
   "metadata": {},
   "outputs": [],
   "source": [
    "docs_10K = MySentences(source_dir)"
   ]
  },
  {
   "cell_type": "code",
   "execution_count": 10,
   "id": "reserved-consortium",
   "metadata": {},
   "outputs": [],
   "source": [
    "model = gensim.models.Word2Vec(docs_10K)"
   ]
  },
  {
   "cell_type": "markdown",
   "id": "gorgeous-flesh",
   "metadata": {},
   "source": [
    "#### Example"
   ]
  },
  {
   "cell_type": "markdown",
   "id": "broad-solid",
   "metadata": {},
   "source": [
    "NOTE! Below is an example how the model above can be used to search similar phrases to the selected keywords. However, the example below uses the text8 dataset included in Gensim, not the model that was used in the paper. The text8 dataset contains text from Wikipedia, so the closest words are different than from the model trained using 10-Ks. (Again a justification that we should use domain-specific textual data.)"
   ]
  },
  {
   "cell_type": "markdown",
   "id": "regulated-masters",
   "metadata": {},
   "source": [
    "NOTE! The text8 dataset does not contain ner-tags or noun chunks, and therefore, there are no phrases in the results."
   ]
  },
  {
   "cell_type": "code",
   "execution_count": 50,
   "id": "recreational-seven",
   "metadata": {},
   "outputs": [],
   "source": [
    "import gensim.downloader"
   ]
  },
  {
   "cell_type": "code",
   "execution_count": 51,
   "id": "scheduled-checklist",
   "metadata": {},
   "outputs": [],
   "source": [
    "corpus = gensim.downloader.load('text8')"
   ]
  },
  {
   "cell_type": "code",
   "execution_count": 53,
   "id": "bearing-handle",
   "metadata": {},
   "outputs": [],
   "source": [
    "model = gensim.models.Word2Vec(corpus)"
   ]
  },
  {
   "cell_type": "markdown",
   "id": "coordinated-physics",
   "metadata": {},
   "source": [
    "<div class=\"alert-info\">\n",
    "The 4 closest words the keywpords 'restructuring'\n",
    "</div>"
   ]
  },
  {
   "cell_type": "code",
   "execution_count": 55,
   "id": "practical-agency",
   "metadata": {},
   "outputs": [
    {
     "data": {
      "text/plain": [
       "[('liberalization', 0.8058362603187561),\n",
       " ('modernization', 0.7889036536216736),\n",
       " ('privatization', 0.754657506942749),\n",
       " ('stabilization', 0.7462006211280823)]"
      ]
     },
     "execution_count": 55,
     "metadata": {},
     "output_type": "execute_result"
    }
   ],
   "source": [
    "model.wv.most_similar(positive=['restructuring'],topn=4)"
   ]
  },
  {
   "cell_type": "markdown",
   "id": "sporting-income",
   "metadata": {},
   "source": [
    "<div class=\"alert-info\">\n",
    "Calculate the centroid vector from the word vectors representing words 'restructuring','liberalization','modernization','privatization','stabilization'. At this point, it is possible to finetune the seed words by adding your own words.\n",
    "</div>"
   ]
  },
  {
   "cell_type": "code",
   "execution_count": 58,
   "id": "particular-lending",
   "metadata": {},
   "outputs": [],
   "source": [
    "word_list = ['restructuring','liberalization','modernization','privatization','stabilization']\n",
    "restr_centroid = np.zeros(100)\n",
    "for word in word_list:\n",
    "    restr_centroid = np.add(restr_centroid, model.wv[word])"
   ]
  },
  {
   "cell_type": "code",
   "execution_count": 59,
   "id": "aerial-vertical",
   "metadata": {},
   "outputs": [],
   "source": [
    "restr_centroid = restr_centroid/5"
   ]
  },
  {
   "cell_type": "markdown",
   "id": "worst-protocol",
   "metadata": {},
   "source": [
    "<div class=\"alert-info\">\n",
    "Collect the 100 word vectors that are cloesest to the centroid\n",
    "</div>"
   ]
  },
  {
   "cell_type": "code",
   "execution_count": 61,
   "id": "floppy-restoration",
   "metadata": {},
   "outputs": [],
   "source": [
    "restr_keywords = [word for (word,_) in model.wv.most_similar(positive=restr_centroid,topn=100)]"
   ]
  },
  {
   "cell_type": "code",
   "execution_count": 62,
   "id": "seasonal-distance",
   "metadata": {},
   "outputs": [
    {
     "data": {
      "text/plain": [
       "['restructuring',\n",
       " 'liberalization',\n",
       " 'privatization',\n",
       " 'modernization',\n",
       " 'privatisation',\n",
       " 'financing',\n",
       " 'deregulation',\n",
       " 'stabilization',\n",
       " 'industrialization',\n",
       " 'decentralization',\n",
       " 'macroeconomic',\n",
       " 'banking',\n",
       " 'austerity',\n",
       " 'liberalized',\n",
       " 'policies',\n",
       " 'perestroika',\n",
       " 'nationalisation',\n",
       " 'privatizations',\n",
       " 'infrastructure',\n",
       " 'reforms',\n",
       " 'consolidation',\n",
       " 'initiatives',\n",
       " 'deficits',\n",
       " 'instability',\n",
       " 'mismanagement',\n",
       " 'welfare',\n",
       " 'nationalization',\n",
       " 'dismantling',\n",
       " 'downturn',\n",
       " 'investment',\n",
       " 'democratization',\n",
       " 'collectivization',\n",
       " 'fiscal',\n",
       " 'subsidies',\n",
       " 'investments',\n",
       " 'overhaul',\n",
       " 'financial',\n",
       " 'enterprises',\n",
       " 'diversification',\n",
       " 'sponsorship',\n",
       " 'liberalisation',\n",
       " 'finances',\n",
       " 'multilateral',\n",
       " 'monetary',\n",
       " 'tariff',\n",
       " 'lobbying',\n",
       " 'reform',\n",
       " 'eradication',\n",
       " 'glasnost',\n",
       " 'adjustment',\n",
       " 'employment',\n",
       " 'economic',\n",
       " 'bureaucratic',\n",
       " 'procurement',\n",
       " 'monopolies',\n",
       " 'taxation',\n",
       " 'policy',\n",
       " 'securities',\n",
       " 'crises',\n",
       " 'outsourcing',\n",
       " 'centralization',\n",
       " 'administration',\n",
       " 'incentives',\n",
       " 'surpluses',\n",
       " 'cutbacks',\n",
       " 'interventions',\n",
       " 'tariffs',\n",
       " 'priorities',\n",
       " 'initiative',\n",
       " 'expenditure',\n",
       " 'bargaining',\n",
       " 'pension',\n",
       " 'usaid',\n",
       " 'exploitation',\n",
       " 'sector',\n",
       " 'productivity',\n",
       " 'unionism',\n",
       " 'volatility',\n",
       " 'easing',\n",
       " 'loans',\n",
       " 'profitability',\n",
       " 'finance',\n",
       " 'regulation',\n",
       " 'infrastructures',\n",
       " 'deficit',\n",
       " 'workforce',\n",
       " 'keynesianism',\n",
       " 'burdens',\n",
       " 'wholesale',\n",
       " 'markets',\n",
       " 'recession',\n",
       " 'facilitating',\n",
       " 'funding',\n",
       " 'corruption',\n",
       " 'acquisitions',\n",
       " 'reductions',\n",
       " 'recovery',\n",
       " 'shortages',\n",
       " 'industrialisation',\n",
       " 'economy']"
      ]
     },
     "execution_count": 62,
     "metadata": {},
     "output_type": "execute_result"
    }
   ],
   "source": [
    "restr_keywords"
   ]
  },
  {
   "cell_type": "markdown",
   "id": "strong-coupon",
   "metadata": {},
   "source": [
    "### Part 4: Build the measure"
   ]
  },
  {
   "cell_type": "markdown",
   "id": "designing-oxford",
   "metadata": {},
   "source": [
    "<div class=\"alert-info\">\n",
    "When the phrases are identified, the code below canbe used to calculate the occurence of words in 10-Ks\n",
    "</div>"
   ]
  },
  {
   "cell_type": "code",
   "execution_count": 149,
   "id": "essential-encounter",
   "metadata": {},
   "outputs": [],
   "source": [
    "docs_10K = MySentences(source_dir)"
   ]
  },
  {
   "cell_type": "code",
   "execution_count": 150,
   "id": "victorian-wagon",
   "metadata": {},
   "outputs": [],
   "source": [
    "count_list = []\n",
    "for doc in docs_10K:\n",
    "    temp_sum = 0\n",
    "    for word in restr_keywords:\n",
    "        temp_sum+=doc.count(word)\n",
    "    count_list.append(temp_sum)"
   ]
  }
 ],
 "metadata": {
  "kernelspec": {
   "display_name": "Python 3 (ipykernel)",
   "language": "python",
   "name": "python3"
  },
  "language_info": {
   "codemirror_mode": {
    "name": "ipython",
    "version": 3
   },
   "file_extension": ".py",
   "mimetype": "text/x-python",
   "name": "python",
   "nbconvert_exporter": "python",
   "pygments_lexer": "ipython3",
   "version": "3.8.7"
  }
 },
 "nbformat": 4,
 "nbformat_minor": 5
}
