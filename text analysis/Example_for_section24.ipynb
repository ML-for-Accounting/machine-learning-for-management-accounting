{
 "cells": [
  {
   "cell_type": "markdown",
   "id": "arabic-craft",
   "metadata": {},
   "source": [
    "### BERT example"
   ]
  },
  {
   "cell_type": "markdown",
   "id": "accurate-motion",
   "metadata": {},
   "source": [
    "This code includes the example of Section 2.4 in the article \"Machine learning in management accounting research: Literature review and pathways for the future\". The article is forthcoming in European Accounting Review, but the working paper version can be downloaded from https://papers.ssrn.com/sol3/papers.cfm?abstract_id=3822650"
   ]
  },
  {
   "cell_type": "code",
   "execution_count": 1,
   "id": "duplicate-universal",
   "metadata": {},
   "outputs": [],
   "source": [
    "import transformers"
   ]
  },
  {
   "cell_type": "code",
   "execution_count": 18,
   "id": "e551e241-d075-4534-b888-343d9c9cc159",
   "metadata": {},
   "outputs": [],
   "source": [
    "transformers.set_seed(1)"
   ]
  },
  {
   "cell_type": "code",
   "execution_count": 19,
   "id": "passive-alloy",
   "metadata": {},
   "outputs": [],
   "source": [
    "sample_text = \"The cost structure of our business.\""
   ]
  },
  {
   "cell_type": "code",
   "execution_count": 20,
   "id": "dense-queensland",
   "metadata": {},
   "outputs": [
    {
     "name": "stderr",
     "output_type": "stream",
     "text": [
      "No model was supplied, defaulted to distilbert-base-uncased-finetuned-sst-2-english and revision af0f99b (https://huggingface.co/distilbert-base-uncased-finetuned-sst-2-english).\n",
      "Using a pipeline without specifying a model name and revision in production is not recommended.\n"
     ]
    }
   ],
   "source": [
    "classifier = transformers.pipeline(\"sentiment-analysis\")"
   ]
  },
  {
   "cell_type": "code",
   "execution_count": 21,
   "id": "therapeutic-teacher",
   "metadata": {},
   "outputs": [
    {
     "data": {
      "text/plain": [
       "[{'label': 'NEGATIVE', 'score': 0.7696279883384705}]"
      ]
     },
     "execution_count": 21,
     "metadata": {},
     "output_type": "execute_result"
    }
   ],
   "source": [
    "classifier(sample_text)"
   ]
  },
  {
   "cell_type": "code",
   "execution_count": 22,
   "id": "superb-shanghai",
   "metadata": {},
   "outputs": [],
   "source": [
    "classifier = transformers.pipeline(\"sentiment-analysis\",model='ProsusAI/finbert')"
   ]
  },
  {
   "cell_type": "code",
   "execution_count": 23,
   "id": "authorized-radius",
   "metadata": {},
   "outputs": [
    {
     "data": {
      "text/plain": [
       "[{'label': 'neutral', 'score': 0.932224452495575}]"
      ]
     },
     "execution_count": 23,
     "metadata": {},
     "output_type": "execute_result"
    }
   ],
   "source": [
    "classifier(sample_text)"
   ]
  },
  {
   "cell_type": "code",
   "execution_count": null,
   "id": "apart-interface",
   "metadata": {},
   "outputs": [],
   "source": []
  }
 ],
 "metadata": {
  "kernelspec": {
   "display_name": "Python 3 (ipykernel)",
   "language": "python",
   "name": "python3"
  },
  "language_info": {
   "codemirror_mode": {
    "name": "ipython",
    "version": 3
   },
   "file_extension": ".py",
   "mimetype": "text/x-python",
   "name": "python",
   "nbconvert_exporter": "python",
   "pygments_lexer": "ipython3",
   "version": "3.8.7"
  }
 },
 "nbformat": 4,
 "nbformat_minor": 5
}
