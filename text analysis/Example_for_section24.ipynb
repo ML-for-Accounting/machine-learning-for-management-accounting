{
 "cells": [
  {
   "cell_type": "markdown",
   "id": "enormous-serial",
   "metadata": {},
   "source": [
    "### BERT example"
   ]
  },
  {
   "cell_type": "markdown",
   "id": "dominant-chocolate",
   "metadata": {},
   "source": [
    "This code includes the example of Section 2.4 in the article \"Machine learning in management accounting research: Literature review and pathways for the future\""
   ]
  },
  {
   "cell_type": "code",
   "execution_count": 1,
   "id": "operational-stake",
   "metadata": {},
   "outputs": [],
   "source": [
    "import transformers"
   ]
  },
  {
   "cell_type": "code",
   "execution_count": 2,
   "id": "stunning-occasions",
   "metadata": {},
   "outputs": [],
   "source": [
    "sample_text = \"We have a lot of crude oil to be used in our refineries.\""
   ]
  },
  {
   "cell_type": "code",
   "execution_count": null,
   "id": "billion-poverty",
   "metadata": {},
   "outputs": [],
   "source": [
    "classifier = transformers.pipeline(\"sentiment-analysis\")"
   ]
  },
  {
   "cell_type": "code",
   "execution_count": 4,
   "id": "significant-lindsay",
   "metadata": {},
   "outputs": [
    {
     "data": {
      "text/plain": [
       "[{'label': 'NEGATIVE', 'score': 0.9899725317955017}]"
      ]
     },
     "execution_count": 4,
     "metadata": {},
     "output_type": "execute_result"
    }
   ],
   "source": [
    "classifier(sample_text)"
   ]
  },
  {
   "cell_type": "code",
   "execution_count": 5,
   "id": "outstanding-commitment",
   "metadata": {},
   "outputs": [],
   "source": [
    "classifier = transformers.pipeline(\"sentiment-analysis\",model='ProsusAI/finbert')"
   ]
  },
  {
   "cell_type": "code",
   "execution_count": 6,
   "id": "molecular-abraham",
   "metadata": {},
   "outputs": [
    {
     "data": {
      "text/plain": [
       "[{'label': 'neutral', 'score': 0.8691407442092896}]"
      ]
     },
     "execution_count": 6,
     "metadata": {},
     "output_type": "execute_result"
    }
   ],
   "source": [
    "classifier(sample_text)"
   ]
  },
  {
   "cell_type": "code",
   "execution_count": null,
   "id": "changing-cuisine",
   "metadata": {},
   "outputs": [],
   "source": []
  }
 ],
 "metadata": {
  "kernelspec": {
   "display_name": "Python 3",
   "language": "python",
   "name": "python3"
  },
  "language_info": {
   "codemirror_mode": {
    "name": "ipython",
    "version": 3
   },
   "file_extension": ".py",
   "mimetype": "text/x-python",
   "name": "python",
   "nbconvert_exporter": "python",
   "pygments_lexer": "ipython3",
   "version": "3.8.7"
  }
 },
 "nbformat": 4,
 "nbformat_minor": 5
}
