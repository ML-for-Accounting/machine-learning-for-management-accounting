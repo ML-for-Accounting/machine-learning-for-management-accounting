{
 "cells": [
  {
   "cell_type": "markdown",
   "metadata": {},
   "source": [
    "### Text preprocessing for conventional text analysis methods"
   ]
  },
  {
   "cell_type": "markdown",
   "metadata": {},
   "source": [
    "Information in the following code is color-coded to make it easier to find parts relevant for the discussion of the accompanying article."
   ]
  },
  {
   "cell_type": "markdown",
   "metadata": {},
   "source": [
    "<div class=\"alert-warning\">\n",
    "Yellow is used for parts of the code which are irrelevant and perform, for example, pre-processing operations.\n",
    "</div>"
   ]
  },
  {
   "cell_type": "markdown",
   "metadata": {
    "tags": []
   },
   "source": [
    "<div class=\"alert-info\">\n",
    "Blue is used for the relevant parts of the code.\n",
    "</div>"
   ]
  },
  {
   "cell_type": "markdown",
   "metadata": {},
   "source": [
    "<div class=\"alert-warning\">\n",
    "Libraries\n",
    "</div>"
   ]
  },
  {
   "cell_type": "code",
   "execution_count": 2,
   "metadata": {},
   "outputs": [],
   "source": [
    "from nltk.corpus import stopwords\n",
    "\n",
    "import os\n",
    "import matplotlib.pyplot as plt\n",
    "import seaborn as sns\n",
    "import numpy as np\n",
    "import pandas as pd\n",
    "from nltk.corpus import stopwords\n",
    "import gensim_lda_library as gl\n",
    "from gensim import corpora\n",
    "from gensim.models import CoherenceModel\n",
    "import gensim\n",
    "import pyLDAvis.gensim\n",
    "import spacy"
   ]
  },
  {
   "cell_type": "markdown",
   "metadata": {},
   "source": [
    "<div class=\"alert-info\">\n",
    "Transform pdf:s to pure text\n",
    "</div>"
   ]
  },
  {
   "cell_type": "markdown",
   "metadata": {},
   "source": [
    "* Using convert_pdfminer() -function from the specific libary to convert pdf files to pure text and insterting text as long strings to raw_text list. The details of the function are explained in the library."
   ]
  },
  {
   "cell_type": "code",
   "execution_count": 6,
   "metadata": {},
   "outputs": [],
   "source": [
    "files = os.listdir(data_path)"
   ]
  },
  {
   "cell_type": "code",
   "execution_count": null,
   "metadata": {},
   "outputs": [],
   "source": [
    "raw_text = []\n",
    "for file in files:\n",
    "    temp1 = gl.convert_pdfminer(data_path+file)\n",
    "    raw_text.append(temp1)"
   ]
  },
  {
   "cell_type": "markdown",
   "metadata": {},
   "source": [
    "<div class=\"alert-info\">\n",
    "First cleaning steps\n",
    "</div>"
   ]
  },
  {
   "cell_type": "markdown",
   "metadata": {},
   "source": [
    "* Define the stopwords list (NLTK library). The example data consists of academic articles and the stopwords list is extended with the words 'firm','af','rm','topic','journal','https','doi','org'\n",
    "* Simple_preprocess() -function of Gensim can be used basic cleaning steps. With default settings, it will remove numbers, words shorter than 2 characters and words longer than 15 characters \n",
    "* Use the stopwords list of the NLTK library to remove the stopwords from the texts"
   ]
  },
  {
   "cell_type": "code",
   "execution_count": 8,
   "metadata": {},
   "outputs": [],
   "source": [
    "stop_words = stopwords.words(\"english\")\n",
    "stop_words.extend(['firm','af','rm','topic','journal','https','doi','org'])"
   ]
  },
  {
   "cell_type": "code",
   "execution_count": 9,
   "metadata": {},
   "outputs": [],
   "source": [
    "docs_cleaned = []\n",
    "for item in raw_text:\n",
    "    tokens = gensim.utils.simple_preprocess(item)\n",
    "    docs_cleaned.append(tokens)"
   ]
  },
  {
   "cell_type": "code",
   "execution_count": 11,
   "metadata": {},
   "outputs": [],
   "source": [
    "docs_nostops = []\n",
    "for item in docs_cleaned:\n",
    "    red_tokens = [word for word in item if word not in stop_words]\n",
    "    docs_nostops.append(red_tokens)"
   ]
  },
  {
   "cell_type": "markdown",
   "metadata": {},
   "source": [
    "<div class=\"alert-info\">\n",
    "Use the Spacy deep learning language model to remove specific parts-of-speech\n",
    "</div>"
   ]
  },
  {
   "cell_type": "markdown",
   "metadata": {},
   "source": [
    "* Define which PoS will be saved\n",
    "* Load the deep learning model. For this application, we do not need the parser and named-entity-reconginition modules\n",
    "* Go through the texts and keep only nouns"
   ]
  },
  {
   "cell_type": "code",
   "execution_count": 13,
   "metadata": {},
   "outputs": [],
   "source": [
    "#allowed_postags=['NOUN', 'ADJ', 'VERB', 'ADV']\n",
    "allowed_postags=['NOUN']"
   ]
  },
  {
   "cell_type": "code",
   "execution_count": 14,
   "metadata": {},
   "outputs": [],
   "source": [
    "nlp = spacy.load('en_core_web_lg', disable=['parser', 'ner'])"
   ]
  },
  {
   "cell_type": "code",
   "execution_count": 15,
   "metadata": {},
   "outputs": [],
   "source": [
    "docs_lemmas = []\n",
    "for red_tokens in docs_nostops:\n",
    "    doc = nlp(\" \".join(red_tokens))\n",
    "    docs_lemmas.append([token.lemma_ for token in doc if token.pos_ in allowed_postags])"
   ]
  },
  {
   "cell_type": "markdown",
   "metadata": {},
   "source": [
    "<div class=\"alert-info\">\n",
    "Create bigrams/trigrams\n",
    "</div>"
   ]
  },
  {
   "cell_type": "code",
   "execution_count": 17,
   "metadata": {},
   "outputs": [],
   "source": [
    "bigram = gensim.models.Phrases(docs_lemmas,threshold = 75, min_count=3)\n",
    "#trigram = gensim.models.Phrases(bigram[docs_lemmas], threshold=1, min_count=2)  \n",
    "bigram_mod = gensim.models.phrases.Phraser(bigram)\n",
    "#trigram_mod = gensim.models.phrases.Phraser(trigram)"
   ]
  },
  {
   "cell_type": "code",
   "execution_count": 18,
   "metadata": {},
   "outputs": [],
   "source": [
    "docs_bigrams = [bigram_mod[doc] for doc in docs_lemmas]"
   ]
  },
  {
   "cell_type": "code",
   "execution_count": 20,
   "metadata": {},
   "outputs": [],
   "source": [
    "#docs_trigrams = [trigram_mod[doc] for doc in docs_bigrams]"
   ]
  },
  {
   "cell_type": "markdown",
   "metadata": {},
   "source": [
    "<div class=\"alert-info\">\n",
    "Create dictionary\n",
    "</div>"
   ]
  },
  {
   "cell_type": "markdown",
   "metadata": {},
   "source": [
    "* Dictionary is created from the cleaned texts in docs_bigrams\n",
    "* Exceptional words are removed from the dictionary\n",
    "    - Words that are present in just 2 or less texts\n",
    "    - Words that are present in more than 70 % of the texts\n",
    "    - 50000 most common words are kept\n",
    "* The dictionary is used to create a bag-of-words representation of the words, which is saved to the corpus-list"
   ]
  },
  {
   "cell_type": "code",
   "execution_count": null,
   "metadata": {},
   "outputs": [],
   "source": [
    "id2word = corpora.Dictionary(docs_bigrams)\n",
    "id2word.filter_extremes(no_below=2, no_above=0.7, keep_n=50000)"
   ]
  },
  {
   "cell_type": "code",
   "execution_count": 22,
   "metadata": {},
   "outputs": [],
   "source": [
    "corpus = [id2word.doc2bow(text) for text in docs_bigrams]"
   ]
  },
  {
   "cell_type": "code",
   "execution_count": null,
   "metadata": {},
   "outputs": [],
   "source": []
  }
 ],
 "metadata": {
  "kernelspec": {
   "display_name": "Python 3",
   "language": "python",
   "name": "python3"
  },
  "language_info": {
   "codemirror_mode": {
    "name": "ipython",
    "version": 3
   },
   "file_extension": ".py",
   "mimetype": "text/x-python",
   "name": "python",
   "nbconvert_exporter": "python",
   "pygments_lexer": "ipython3",
   "version": "3.8.7"
  }
 },
 "nbformat": 4,
 "nbformat_minor": 4
}
