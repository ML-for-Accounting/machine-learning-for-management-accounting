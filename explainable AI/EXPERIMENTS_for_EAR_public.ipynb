{
 "cells": [
  {
   "cell_type": "markdown",
   "metadata": {},
   "source": [
    "### An example how to use explainable AI for management accounting research\n"
   ]
  },
  {
   "cell_type": "markdown",
   "metadata": {},
   "source": [
    "Information in the following code is color-coded to make it easier to find parts relevant for the discussion of the accompanying article."
   ]
  },
  {
   "cell_type": "markdown",
   "metadata": {},
   "source": [
    "<div class=\"alert-warning\">\n",
    "Yellow is used for parts of the code which are irrelevant and perform, for example, pre-processing operations.\n",
    "</div>"
   ]
  },
  {
   "cell_type": "markdown",
   "metadata": {
    "tags": []
   },
   "source": [
    "<div class=\"alert-info\">\n",
    "Blue is used for the relevant parts of the code.\n",
    "</div>"
   ]
  },
  {
   "cell_type": "markdown",
   "metadata": {},
   "source": [
    "----------------"
   ]
  },
  {
   "cell_type": "markdown",
   "metadata": {},
   "source": [
    "<div class=\"alert-warning\">\n",
    "Libraries\n",
    "</div>"
   ]
  },
  {
   "cell_type": "markdown",
   "metadata": {},
   "source": [
    "* Pandas for data handling\n",
    "* XGBoost for creating the boosting model\n",
    "* Numpy is needed in a few places to calculate mean value, absolute value, etc. for values in tables\n",
    "* SHAP includes the tools for explainable AI\n",
    "* Matplotlib for plotting\n",
    "* Boosting_library_mra includes special functions for the process. The details are explained in the library."
   ]
  },
  {
   "cell_type": "code",
   "execution_count": null,
   "metadata": {},
   "outputs": [],
   "source": [
    "import pandas as pd\n",
    "import xgboost as xgb\n",
    "import numpy as np\n",
    "import shap\n",
    "import matplotlib.pyplot as plt\n",
    "\n",
    "import boosting_library as bl"
   ]
  },
  {
   "cell_type": "markdown",
   "metadata": {},
   "source": [
    "<div class=\"alert-warning\">\n",
    "Preprocessing\n",
    "</div>"
   ]
  },
  {
   "cell_type": "markdown",
   "metadata": {},
   "source": [
    "* Load the data to a Pandas dataframe\n",
    "* Shift the values of Patent filings so that is easier to predict t+1 values using the t+0 values of other variables.\n",
    "* Create R&D missing -variable that has value 1 if R&D intensity is missing for that observation.\n",
    "* Creat Sales growth -variable\n",
    "* Use only observations between the years 2014-2019\n",
    "* Use the prepare_data -function of the accompanying library. The details of the function are explained in the library.\n",
    "* Winsorize the control variables\n",
    "* Create more informative names for the variables\n",
    "* Create 2-digit SIC categories\n",
    "* Create more informative names for the employee opinion variables. Notice that many of them are not used in this example.\n",
    "* Create a dummy variable that gets value 1 if Board gender diversity for that observation is larger than zero\n",
    "* Add the predicted variable to the y_df Pandas series\n",
    "* Create a list including the names of the diversity variables included in the model\n",
    "* Create a list includding the names of all the predictors\n",
    "* Create a x_df Pandas dataframe including all the predictors"
   ]
  },
  {
   "cell_type": "code",
   "execution_count": null,
   "metadata": {},
   "outputs": [],
   "source": [
    "full_table_df = pd.read_csv('CORRECTED_FINAL_DATA.csv',index_col=0)\n",
    "\n",
    "full_table_df['corrected_filings'] = full_table_df.groupby(['conm']).shift(-1)['corrected_filings']\n",
    "\n",
    "full_table_df['R&D missing'] = full_table_df['rd_int'].isna()\n",
    "\n",
    "full_table_df['Sales growth'] = full_table_df.groupby('conm')['sale'].pct_change()\n",
    "\n",
    "full_table_df = full_table_df[(full_table_df['fyear'] > 2013) & (full_table_df['fyear'] <= 2019)]\n",
    "\n",
    "full_table_df = bl.prepare_data(full_table_df,'corrected_filings')\n",
    "\n",
    "win_contr_df = bl.winsorize_data(full_table_df[['at','cap_int','lvg','rd_int','roa','optvol','tobin',\n",
    "                                                'Sales growth','corrected_filings','board_gender_diversity_percent']])\n",
    "\n",
    "full_table_df['Total assets (1000$)'] = win_contr_df['at']\n",
    "full_table_df['Capital intensity'] = win_contr_df['cap_int']\n",
    "full_table_df['Leverage'] = win_contr_df['lvg']\n",
    "full_table_df['R&D intensity'] = win_contr_df['rd_int']\n",
    "full_table_df['ROA'] = win_contr_df['roa']\n",
    "full_table_df['Implied volatility'] = win_contr_df['optvol']\n",
    "full_table_df['Tobin\\'s Q'] = win_contr_df['tobin']\n",
    "full_table_df['Sales growth'] = win_contr_df['Sales growth']\n",
    "full_table_df['Patent filings (t+1)'] = win_contr_df['corrected_filings']\n",
    "full_table_df['Board gender diversity'] = win_contr_df['board_gender_diversity_percent']\n",
    "\n",
    "full_table_df.rename({'age':'Firm age'},axis=1,inplace=True)\n",
    "\n",
    "temp = full_table_df['sic'].values/100\n",
    "sic1dig = [int(i) for i in np.floor(temp)]\n",
    "full_table_df['SIC 2-digit'] = sic1dig\n",
    "\n",
    "full_table_df.rename(columns = {'Company Culture':'Company culture','Internal Communication':'Internal communication',\n",
    "                                'Gender Equality':'Gender equality','Career Development':'Career development','Office / Work Environment':'Office/work environment',\n",
    "                                'Environmental Friendliness':'Environmental friendliness', 'Work-Life Balance':'Work–life balance',\n",
    "                                'Company Image':'Company image','Job Security':'Job security', 'Handicapped Accessibility':'Accessible to people with disabilities',\n",
    "                                'Workplace Safety':'Workplace safety','Challenging Work':'Challenging work', 'Inclusive / Diverse':'Inclusive/diverse','contributionplan':'401(k)',\n",
    "                      'definedcontribution':'401(k) Company match', 'flexiblespending':'Flexible spending account',\n",
    "                      'healthcarenetwork':'Vision and dental healthcare','housingrelocation':'Relocation allowance',\n",
    "                      'lifeinsurance':'Life insurance', 'maternity':'Paid parental leave',\n",
    "                      'officelocation':'Desirable office location','onsitedaycare':'On-site daycare facility',\n",
    "                      'paidtimeoff':'Paid time off', 'parking':'Parking','reimburseddaycare':'Reimbursed daycare',\n",
    "                      'shares':'Stock or equity options','telcoarrangements':'Ability to work remotely',\n",
    "                      'transportation':'Easy access to public transportation','tuition':'Tuition assistance',\n",
    "                      'workhours':'Flexible working hours','cafeteria':'On-site cafeteria','car':'Vehicle allowance',\n",
    "                      'discount':'Employee discounts','dogs':'Pet-friendly','events':'Employee events',\n",
    "                      'fitness':'Health and wellness programs','fitnesscenter':'On-site fitness center',\n",
    "                      'food':'Free snacks and drinks', 'providedfood':'Free meals','fyear':'Fiscal year'},inplace = True)\n",
    "\n",
    "full_table_df['BGD_dummy'] = full_table_df['Board gender diversity'] > 0.\n",
    "\n",
    "y_df = full_table_df['Patent filings (t+1)']\n",
    "\n",
    "div_vars = ['Inclusive/diverse', 'Gender equality','Attitude towards older colleagues','Board gender diversity']\n",
    "\n",
    "x_vars = div_vars + ['Total assets (1000$)','Capital intensity','Tobin\\'s Q',\n",
    "                  'Leverage', 'R&D intensity','ROA', 'Implied volatility','Firm age',\n",
    "                  'Sales growth', 'SIC 2-digit','Fiscal year']\n",
    "\n",
    "x_df = full_table_df[x_vars]"
   ]
  },
  {
   "cell_type": "markdown",
   "metadata": {},
   "source": [
    "<div class=\"alert-info\">\n",
    "XGBoost model\n",
    "</div>"
   ]
  },
  {
   "cell_type": "markdown",
   "metadata": {},
   "source": [
    "* Create an efficient Dmatrix datatype included in the XGBoost library. Using DMatrix datatype speeds up calculations significantly.\n",
    "* Define the optimal parameters for the XGBoost model. In the same order: depth of trees, the weight for the following tree, the percentage size of a subsample used for one tree, the percentage of predictors used for one tree, the minimum number of observation in the leaves of the decision trees, the minimum reguired decrease of the loss function for each branch, the type of the loss function\n",
    "* XGBoost cv -function can be used to search the optimal number of trees with 5-fold cross-validation. As we can see from the figure, the validation set loss decreases until we have approximately 400 trees in our boosting model. The number of trees used in this example is 600.\n",
    "* XGBoost train -function is used to train the boosting model\n",
    "* XGBoost plot_importance -function can be used to evaluate the importance of predictors. The function incorporates simple importance metrics, like the weight metric"
   ]
  },
  {
   "cell_type": "code",
   "execution_count": null,
   "metadata": {},
   "outputs": [],
   "source": [
    "dtrain = xgb.DMatrix(x_df, label=y_df, nthread = -1)\n",
    "\n",
    "param = {'max_depth': 5, 'eta': 0.2, 'subsample': 0.8,\n",
    "         'colsample_bytree': 0.6, 'min_child_weight' : 1, 'gamma' : 0.,'objective' : 'reg:squarederror'}\n",
    "\n",
    "temp = xgb.cv(param,dtrain,num_boost_round=1000,nfold=5,seed=10)\n",
    "\n",
    "plt.plot(temp['test-rmse-mean'][100:1000])\n",
    "plt.show()\n",
    "\n",
    "b_rounds = 600\n",
    "\n",
    "bst = xgb.train(param,dtrain,num_boost_round=b_rounds)\n",
    "\n",
    "plt.Figure(figsize=(20,20))\n",
    "xgb.plot_importance(bst,importance_type='weight',show_values=False,xlabel='weight')\n",
    "plt.show()"
   ]
  },
  {
   "cell_type": "markdown",
   "metadata": {},
   "source": [
    "<div class=\"alert-info\">\n",
    "Incorporateing SHAP and SAGE for more detailed analysis\n",
    "</div>"
   ]
  },
  {
   "cell_type": "markdown",
   "metadata": {},
   "source": [
    "* The calculate_bootstrap -function of the specific library is used to create bootstrap samples from XGBoost models, and to calculate the SHAP values for each model. The details of the function are explained in the library\n",
    "* The plot_bootstrap_shaps -function is used to plot the average and confidence intervals of using the bootstrap samples. The details are in the library."
   ]
  },
  {
   "cell_type": "code",
   "execution_count": null,
   "metadata": {},
   "outputs": [],
   "source": [
    "bootstrap_samples_df, bootstrap_shaps_df = bl.calculate_bootstrap(full_table_df,x_df.columns,'Patent filings (t+1)',param,'GVKEY',n_values=len(y_df),\n",
    "                                                                  metrics='mae',num_trees=b_rounds,boot_rounds=20,esr=50)"
   ]
  },
  {
   "cell_type": "code",
   "execution_count": null,
   "metadata": {},
   "outputs": [],
   "source": [
    "bl.plot_bootstrarp_shaps(bootstrap_samples_df,bootstrap_shaps_df,x_vars=div_vars,nobs=len(y_df),no_bins=8,plot_arr=[2,2],name_prefix = 'EAR_experiment1',\n",
    "                         figsize=(14,5), alpha=0.05, y_limits=False,c_limit=0.15,c_bool=True,hspace=0.25,show_obs=False)"
   ]
  },
  {
   "cell_type": "markdown",
   "metadata": {},
   "source": [
    "<div class=\"alert-info\">\n",
    "Direct SHAP calculations\n",
    "</div>"
   ]
  },
  {
   "cell_type": "markdown",
   "metadata": {},
   "source": [
    "* The initjs -function is used to initilize the SHAP model\n",
    "* Explainer() is used to calculate the SHAP explainer object\n",
    "* plots.waterfall() is used to create a waterfall plot for an individual observation\n",
    "* summary_plot() with plot_type=bar can be used to rank the importance of predictors. It calculates mean(abs(SHAP)) from individual observations"
   ]
  },
  {
   "cell_type": "code",
   "execution_count": null,
   "metadata": {},
   "outputs": [],
   "source": [
    "j=0\n",
    "shap.initjs()"
   ]
  },
  {
   "cell_type": "code",
   "execution_count": null,
   "metadata": {},
   "outputs": [],
   "source": [
    "explainer = shap.TreeExplainer(bst, x_df)"
   ]
  },
  {
   "cell_type": "code",
   "execution_count": null,
   "metadata": {},
   "outputs": [],
   "source": [
    "shap_values = explainer(x_df)"
   ]
  },
  {
   "cell_type": "code",
   "execution_count": null,
   "metadata": {},
   "outputs": [],
   "source": [
    "shap.plots.waterfall(shap_values[43],show=False,max_display=12)\n",
    "plt.show()"
   ]
  },
  {
   "cell_type": "code",
   "execution_count": null,
   "metadata": {},
   "outputs": [],
   "source": [
    "shap.summary_plot(shap_values,x_df,plot_type='bar',max_display=15,plot_size=(8,4),show=False)"
   ]
  },
  {
   "cell_type": "markdown",
   "metadata": {},
   "source": [
    "<div class=\"alert-info\">\n",
    "Calculate SHAPs two-wise interactions\n",
    "</div>"
   ]
  },
  {
   "cell_type": "markdown",
   "metadata": {},
   "source": [
    "* Create explainer object\n",
    "* Calculate two-wise interaction values\n",
    "* Numpy mean()- and abs()-functions are used to calculate mean(abs()) of the interaction SHAP values\n",
    "* Pandas Dataframe() -function is used to create a table of two-wise importances.\n",
    "* The following steps are used to create the bar chart below, where the two-wise interaction importances of the diversity variables are plotted.\n",
    "* Summary_plot() with plot_type='compact_dot' can be used to analyze in detail the interaction SHAP values\n",
    "* Dependence_plot() can be used to analyze how one predictor (R&D intensity in this example) affects the output, but also the predictors interaction with another predictor (Total assets in this case)."
   ]
  },
  {
   "cell_type": "code",
   "execution_count": null,
   "metadata": {},
   "outputs": [],
   "source": [
    "explainerXGB = shap.TreeExplainer(bst)"
   ]
  },
  {
   "cell_type": "code",
   "execution_count": null,
   "metadata": {},
   "outputs": [],
   "source": [
    "shap_normal = explainerXGB.shap_values(x_df,y_df)"
   ]
  },
  {
   "cell_type": "code",
   "execution_count": null,
   "metadata": {},
   "outputs": [],
   "source": [
    "shap_interactions_np = explainerXGB.shap_interaction_values(x_df,y_df)"
   ]
  },
  {
   "cell_type": "code",
   "execution_count": null,
   "metadata": {},
   "outputs": [],
   "source": [
    "abs_mean_np = np.mean(np.abs(shap_interactions_np),axis=0)"
   ]
  },
  {
   "cell_type": "code",
   "execution_count": null,
   "metadata": {},
   "outputs": [],
   "source": [
    "inter_df = pd.DataFrame(index=x_df.columns, columns=x_df.columns,data=abs_mean_np)"
   ]
  },
  {
   "cell_type": "code",
   "execution_count": null,
   "metadata": {},
   "outputs": [],
   "source": [
    "inter_df"
   ]
  },
  {
   "cell_type": "code",
   "execution_count": null,
   "metadata": {},
   "outputs": [],
   "source": [
    "var_names = []\n",
    "interaction_importance = []\n",
    "i=0\n",
    "for name1 in x_df.iloc[:,0:4].columns:\n",
    "    j=i+0\n",
    "    for name2 in x_df.iloc[:,0:4].columns[i:]:\n",
    "        var_names.append(name1 + ' * ' + name2)\n",
    "        interaction_importance.append(inter_df.iloc[i,j])\n",
    "        j+=1\n",
    "    i+=1"
   ]
  },
  {
   "cell_type": "code",
   "execution_count": null,
   "metadata": {},
   "outputs": [],
   "source": [
    "inter_ranking_df = pd.DataFrame(index=var_names,data=interaction_importance,columns=['Mean of absolute shap values'])"
   ]
  },
  {
   "cell_type": "code",
   "execution_count": null,
   "metadata": {},
   "outputs": [],
   "source": [
    "inter_ranking_df.sort_values('Mean of absolute shap values',ascending = True).iloc[:-4].plot.barh(legend=False,color='gray')\n",
    "plt.show()"
   ]
  },
  {
   "cell_type": "code",
   "execution_count": null,
   "metadata": {},
   "outputs": [],
   "source": [
    "shap.summary_plot(shap_interactions_np[:,0:4,0:4],x_df.iloc[:,0:4],max_display = 60,plot_type='compact_dot',\n",
    "                  sort=True,plot_size=(20,6),alpha=0.5,cmap=plt.get_cmap('Greys'))"
   ]
  },
  {
   "cell_type": "code",
   "execution_count": null,
   "metadata": {},
   "outputs": [],
   "source": [
    "shap.dependence_plot('R&D intensity',shap_normal,x_df)"
   ]
  },
  {
   "cell_type": "markdown",
   "metadata": {},
   "source": [
    "<div class=\"alert-info\">\n",
    "An example of using SHAP values to analyze the effect of the diversity variables for two subgroups of comapnies\n",
    "</div>"
   ]
  },
  {
   "cell_type": "markdown",
   "metadata": {},
   "source": [
    "* For easier manipulation, the SHAP values are saved into Pandas dataframe\n",
    "* In this example, we use Lowess curves to approximate the trends in SHAP values. The Statsmodels -library includes these curves.\n",
    "* Separate graphs for the different diversity dimensions. And different colors for the cases BGD=0 and BGD>0"
   ]
  },
  {
   "cell_type": "code",
   "execution_count": null,
   "metadata": {},
   "outputs": [],
   "source": [
    "shap_df = pd.DataFrame(shap_values_np,columns=x_df.columns)"
   ]
  },
  {
   "cell_type": "code",
   "execution_count": null,
   "metadata": {},
   "outputs": [],
   "source": [
    "import statsmodels.api as sm\n",
    "lowess = sm.nonparametric.lowess"
   ]
  },
  {
   "cell_type": "code",
   "execution_count": null,
   "metadata": {},
   "outputs": [],
   "source": [
    "fig, axs = plt.subplots(1,3,figsize=(18,6),squeeze=True)\n",
    "\n",
    "for varre,ax in zip(['Inclusive/diverse','Gender equality','Attitude towards older colleagues'],axs.flat):\n",
    "    z1 = lowess(shap_df[varre][x_df['BGD_dummy']==True], x_df[varre][x_df['BGD_dummy']==True],frac=0.5)\n",
    "    z2 = lowess(shap_df[varre][x_df['BGD_dummy']==False], x_df[varre][x_df['BGD_dummy']==False],frac=0.5)\n",
    "    \n",
    "    ax.plot(z1[:,0],z1[:,1],c='red',label = 'Board gender diversity > 0',linewidth=2)\n",
    "    ax.plot(z2[:,0],z2[:,1],c='blue', label = 'Board gender diversity = 0',linewidth=2)\n",
    "    ax.scatter(x_df[varre][x_df['BGD_dummy']==True],shap_df[varre][x_df['BGD_dummy']==True],s=2,c='red')\n",
    "    ax.scatter(x_df[varre][x_df['BGD_dummy']==False],shap_df[varre][x_df['BGD_dummy']==False],s=2,c='blue')\n",
    "    ax.set_ylim(-6,6)\n",
    "    ax.set_facecolor('white')\n",
    "    ax.set_xlabel(varre + ' grade')\n",
    "    ax.set_ylabel('Contribution to the outcome (Patent counts)')\n",
    "    ax.legend()\n",
    "#plt.ylabel('Effect of x to the prediction (Patent counts)')\n",
    "plt.savefig('EAR_experiment1',dpi=300)\n",
    "plt.show()"
   ]
  },
  {
   "cell_type": "markdown",
   "metadata": {},
   "source": [
    "<div class=\"alert-info\">\n",
    "An example of using SAGE to estimate the global importance of variables\n",
    "</div>"
   ]
  },
  {
   "cell_type": "markdown",
   "metadata": {},
   "source": [
    "<div class=\"alert-warning\">\n",
    "Calculating XGBoost model\n",
    "</div>"
   ]
  },
  {
   "cell_type": "markdown",
   "metadata": {},
   "source": [
    "* The following steps just build the xgboost model again. This part is redundant."
   ]
  },
  {
   "cell_type": "code",
   "execution_count": null,
   "metadata": {},
   "outputs": [],
   "source": [
    "import sage"
   ]
  },
  {
   "cell_type": "code",
   "execution_count": null,
   "metadata": {},
   "outputs": [],
   "source": [
    "sample_df = full_table_df"
   ]
  },
  {
   "cell_type": "code",
   "execution_count": null,
   "metadata": {},
   "outputs": [],
   "source": [
    "y_df = sample_df['Patent filings (t+1)']"
   ]
  },
  {
   "cell_type": "code",
   "execution_count": null,
   "metadata": {},
   "outputs": [],
   "source": [
    "x_df = sample_df[x_vars]"
   ]
  },
  {
   "cell_type": "code",
   "execution_count": null,
   "metadata": {},
   "outputs": [],
   "source": [
    "x_df.drop('BGD_dummy',axis=1,inplace=True)"
   ]
  },
  {
   "cell_type": "code",
   "execution_count": null,
   "metadata": {},
   "outputs": [],
   "source": [
    "dtrain = xgb.DMatrix(x_df.values, label=y_df.values, nthread = 1)"
   ]
  },
  {
   "cell_type": "code",
   "execution_count": null,
   "metadata": {},
   "outputs": [],
   "source": [
    "m_depth = 5\n",
    "eta = 0.2\n",
    "ssample = 0.8\n",
    "col_tree = 0.6\n",
    "m_child_w = 1\n",
    "gam = 0.\n",
    "objective = 'reg:squarederror'\n",
    "param = {'max_depth': m_depth, 'eta': eta, 'subsample': ssample,\n",
    "         'colsample_bytree': col_tree, 'min_child_weight' : m_child_w, 'gamma' : gam,'objective' : objective}"
   ]
  },
  {
   "cell_type": "code",
   "execution_count": null,
   "metadata": {},
   "outputs": [],
   "source": [
    "temp = xgb.cv(param,dtrain,num_boost_round=1500,nfold=5,seed=10)"
   ]
  },
  {
   "cell_type": "code",
   "execution_count": null,
   "metadata": {},
   "outputs": [],
   "source": [
    "plt.plot(temp['test-rmse-mean'][150:1500])"
   ]
  },
  {
   "cell_type": "code",
   "execution_count": null,
   "metadata": {},
   "outputs": [],
   "source": [
    "b_rounds = 600"
   ]
  },
  {
   "cell_type": "code",
   "execution_count": null,
   "metadata": {},
   "outputs": [],
   "source": [
    "bst = xgb.train(param,dtrain,num_boost_round=b_rounds)"
   ]
  },
  {
   "cell_type": "markdown",
   "metadata": {},
   "source": [
    "<div class=\"alert-info\">\n",
    "Steps to calculate the SAGE importance values\n",
    "</div>"
   ]
  },
  {
   "cell_type": "markdown",
   "metadata": {},
   "source": [
    "* Calculating SAGE values is very slow, so it is recommended to use only part of the data as background samples\n",
    "* Once the values have been calculated, they can be plotted using the plot()-method of the sage_values -object."
   ]
  },
  {
   "cell_type": "code",
   "execution_count": null,
   "metadata": {},
   "outputs": [],
   "source": [
    "imputer = sage.MarginalImputer(bst,x_df.values)"
   ]
  },
  {
   "cell_type": "code",
   "execution_count": null,
   "metadata": {},
   "outputs": [],
   "source": [
    "sampler = sage.PermutationEstimator(imputer, loss='mse')"
   ]
  },
  {
   "cell_type": "code",
   "execution_count": null,
   "metadata": {},
   "outputs": [],
   "source": [
    "sage_values = sampler(x_df.values,y_df.values,bar=True)"
   ]
  },
  {
   "cell_type": "code",
   "execution_count": null,
   "metadata": {},
   "outputs": [],
   "source": [
    "sage_values.plot(x_df.columns,figsize=(8,5))\n",
    "plt.savefig('sage_test.png',dpi=300)"
   ]
  },
  {
   "cell_type": "code",
   "execution_count": null,
   "metadata": {},
   "outputs": [],
   "source": []
  }
 ],
 "metadata": {
  "kernelspec": {
   "display_name": "Python 3",
   "language": "python",
   "name": "python3"
  },
  "language_info": {
   "codemirror_mode": {
    "name": "ipython",
    "version": 3
   },
   "file_extension": ".py",
   "mimetype": "text/x-python",
   "name": "python",
   "nbconvert_exporter": "python",
   "pygments_lexer": "ipython3",
   "version": "3.8.7"
  }
 },
 "nbformat": 4,
 "nbformat_minor": 4
}
